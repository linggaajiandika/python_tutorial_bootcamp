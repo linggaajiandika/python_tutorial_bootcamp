{
  "nbformat": 4,
  "nbformat_minor": 0,
  "metadata": {
    "colab": {
      "name": "Introduction to Python.ipynb",
      "provenance": [],
      "include_colab_link": true
    },
    "kernelspec": {
      "name": "python3",
      "display_name": "Python 3"
    },
    "accelerator": "GPU"
  },
  "cells": [
    {
      "cell_type": "markdown",
      "metadata": {
        "id": "view-in-github",
        "colab_type": "text"
      },
      "source": [
        "<a href=\"https://colab.research.google.com/github/linggaajiandika/python_tutorial_bootcamp/blob/master/Introduction_to_Python.ipynb\" target=\"_parent\"><img src=\"https://colab.research.google.com/assets/colab-badge.svg\" alt=\"Open In Colab\"/></a>"
      ]
    },
    {
      "cell_type": "markdown",
      "metadata": {
        "id": "BjjYPwtYUftE",
        "colab_type": "text"
      },
      "source": [
        "#Introduction to Python"
      ]
    },
    {
      "cell_type": "markdown",
      "metadata": {
        "id": "rucf-chwUftL",
        "colab_type": "text"
      },
      "source": [
        "## Data types\n",
        "\n",
        "### Numbers"
      ]
    },
    {
      "cell_type": "code",
      "metadata": {
        "id": "72ms7tdSUftN",
        "colab_type": "code",
        "colab": {}
      },
      "source": [
        "1 + 1"
      ],
      "execution_count": 0,
      "outputs": []
    },
    {
      "cell_type": "code",
      "metadata": {
        "id": "yg3SY7dMUftX",
        "colab_type": "code",
        "colab": {}
      },
      "source": [
        "2 * 2"
      ],
      "execution_count": 0,
      "outputs": []
    },
    {
      "cell_type": "code",
      "metadata": {
        "id": "yKrbPVAqUftf",
        "colab_type": "code",
        "colab": {}
      },
      "source": [
        "1 / 2"
      ],
      "execution_count": 0,
      "outputs": []
    },
    {
      "cell_type": "code",
      "metadata": {
        "id": "MdWI5zenUfto",
        "colab_type": "code",
        "colab": {}
      },
      "source": [
        "2 ** 3"
      ],
      "execution_count": 0,
      "outputs": []
    },
    {
      "cell_type": "code",
      "metadata": {
        "id": "9PgCtILHUftw",
        "colab_type": "code",
        "colab": {}
      },
      "source": [
        "#Modulo\n",
        "5 % 2"
      ],
      "execution_count": 0,
      "outputs": []
    },
    {
      "cell_type": "code",
      "metadata": {
        "id": "EKupiBaDUft1",
        "colab_type": "code",
        "colab": {}
      },
      "source": [
        "#Div\n",
        "5 // 2"
      ],
      "execution_count": 0,
      "outputs": []
    },
    {
      "cell_type": "code",
      "metadata": {
        "id": "HRlXxWMCUft6",
        "colab_type": "code",
        "colab": {}
      },
      "source": [
        "(2 + 3) * (5 + 5)"
      ],
      "execution_count": 0,
      "outputs": []
    },
    {
      "cell_type": "markdown",
      "metadata": {
        "id": "jwLfyXMzUfuC",
        "colab_type": "text"
      },
      "source": [
        "### Variable Assignment"
      ]
    },
    {
      "cell_type": "code",
      "metadata": {
        "id": "bLoUXRiwUfuE",
        "colab_type": "code",
        "colab": {}
      },
      "source": [
        "# Can not start with number or special characters\n",
        "name_of_var = 2"
      ],
      "execution_count": 0,
      "outputs": []
    },
    {
      "cell_type": "code",
      "metadata": {
        "id": "taIkSpPcUfuI",
        "colab_type": "code",
        "colab": {}
      },
      "source": [
        "x = 2\n",
        "y = 3"
      ],
      "execution_count": 0,
      "outputs": []
    },
    {
      "cell_type": "code",
      "metadata": {
        "id": "52lnGL6ZUfuO",
        "colab_type": "code",
        "colab": {}
      },
      "source": [
        "z = x + y"
      ],
      "execution_count": 0,
      "outputs": []
    },
    {
      "cell_type": "code",
      "metadata": {
        "id": "y6EtzXLVUfuT",
        "colab_type": "code",
        "colab": {}
      },
      "source": [
        "z"
      ],
      "execution_count": 0,
      "outputs": []
    },
    {
      "cell_type": "markdown",
      "metadata": {
        "id": "GQHzgFi5Ufua",
        "colab_type": "text"
      },
      "source": [
        "### Strings"
      ]
    },
    {
      "cell_type": "code",
      "metadata": {
        "id": "tO1onS77Ufuc",
        "colab_type": "code",
        "colab": {}
      },
      "source": [
        "'single quotes'"
      ],
      "execution_count": 0,
      "outputs": []
    },
    {
      "cell_type": "code",
      "metadata": {
        "id": "wmqmW5m7Ufui",
        "colab_type": "code",
        "colab": {}
      },
      "source": [
        "\"double quotes\""
      ],
      "execution_count": 0,
      "outputs": []
    },
    {
      "cell_type": "code",
      "metadata": {
        "id": "4P_a7IbAUfup",
        "colab_type": "code",
        "colab": {}
      },
      "source": [
        "\" wrap lot's of other quotes\""
      ],
      "execution_count": 0,
      "outputs": []
    },
    {
      "cell_type": "markdown",
      "metadata": {
        "id": "P1DdG_6qUfuu",
        "colab_type": "text"
      },
      "source": [
        "### Printing"
      ]
    },
    {
      "cell_type": "code",
      "metadata": {
        "id": "pv2gp7SGUfuv",
        "colab_type": "code",
        "colab": {}
      },
      "source": [
        "x = 'hello'"
      ],
      "execution_count": 0,
      "outputs": []
    },
    {
      "cell_type": "code",
      "metadata": {
        "id": "dw1-8EIMUfu1",
        "colab_type": "code",
        "colab": {}
      },
      "source": [
        "x"
      ],
      "execution_count": 0,
      "outputs": []
    },
    {
      "cell_type": "code",
      "metadata": {
        "id": "TJOGxey4Ufu6",
        "colab_type": "code",
        "colab": {}
      },
      "source": [
        "print(x)"
      ],
      "execution_count": 0,
      "outputs": []
    },
    {
      "cell_type": "code",
      "metadata": {
        "id": "uGdlptvxUfvA",
        "colab_type": "code",
        "colab": {}
      },
      "source": [
        "num = 12\n",
        "name = 'Sam'"
      ],
      "execution_count": 0,
      "outputs": []
    },
    {
      "cell_type": "code",
      "metadata": {
        "id": "rwLLQ8OXUfvG",
        "colab_type": "code",
        "colab": {}
      },
      "source": [
        "print('My number is: {one}, and my name is: {two}'.format(one=num,two=name))"
      ],
      "execution_count": 0,
      "outputs": []
    },
    {
      "cell_type": "code",
      "metadata": {
        "id": "6W2l1fmZUfvW",
        "colab_type": "code",
        "colab": {}
      },
      "source": [
        "print('My number is: {}, and my name is: {}'.format(num,name))"
      ],
      "execution_count": 0,
      "outputs": []
    },
    {
      "cell_type": "markdown",
      "metadata": {
        "id": "gccxWA16Ufxz",
        "colab_type": "text"
      },
      "source": [
        "### List & Dictionary"
      ]
    },
    {
      "cell_type": "code",
      "metadata": {
        "id": "tMqydOORUfx7",
        "colab_type": "code",
        "colab": {}
      },
      "source": [
        "# list\n",
        "list_buah = ['apel', 'mangga', 'pisang']\n",
        "\n",
        "# cetak panjang list buah\n",
        "panjang_list = len(list_buah)\n",
        "print(\"Panjang list buah adalah:\", panjang_list)\n",
        "\n",
        "# cetak elemen 'mangga' dari list buah\n",
        "mangga = list_buah[1]\n",
        "print(\"Buah :\", mangga)\n",
        "\n",
        "# etak elemen 'apel' dan 'pisang' dari list buah\n",
        "mangga = [list_buah[0], list_buah[2]]\n",
        "print(\"Buah :\", mangga)\n",
        "\n",
        "# tambah data 'jeruk' pada list buah\n",
        "list_buah.insert(3,'jeruk')\n",
        "print(\"List buah setelah ditambah jeruk:\", list_buah)\n",
        "\n",
        "# hapus data 'jeruk' pada list buah\n",
        "list_buah.remove('jeruk')\n",
        "print(\"List buah setelah dihapus jeruk:\", list_buah)"
      ],
      "execution_count": 0,
      "outputs": []
    },
    {
      "cell_type": "code",
      "metadata": {
        "id": "Kdfa_BZ5UfyC",
        "colab_type": "code",
        "colab": {}
      },
      "source": [
        "# dictionary\n",
        "dict_objek = {'mobil': 'honda', \n",
        "              'buah': ['apel', 'mangga', 'pisang']}\n",
        "\n",
        "#  cetak key yang terdapat pada dictionary objek\n",
        "keys = dict_objek.keys()\n",
        "print(\"Key dari dictionary objek:\", keys)\n",
        "\n",
        "# cetak value yang terdapat pada dictionary objek\n",
        "values = dict_objek.values()\n",
        "print(\"Values dari dictionary objek:\", values)\n",
        "\n",
        "# cetak value dari key 'buah'\n",
        "value_buah = dict_objek['buah']\n",
        "print(\"Value dari key 'buah' adalah:\", value_buah)"
      ],
      "execution_count": 0,
      "outputs": []
    },
    {
      "cell_type": "markdown",
      "metadata": {
        "id": "5bry2R0eUfyQ",
        "colab_type": "text"
      },
      "source": [
        "### Tuples "
      ]
    },
    {
      "cell_type": "code",
      "metadata": {
        "id": "ys6k3JptUfyR",
        "colab_type": "code",
        "colab": {}
      },
      "source": [
        "t = (1,2,3)"
      ],
      "execution_count": 0,
      "outputs": []
    },
    {
      "cell_type": "code",
      "metadata": {
        "id": "TjOdaWxhUfyY",
        "colab_type": "code",
        "colab": {}
      },
      "source": [
        "t[0]"
      ],
      "execution_count": 0,
      "outputs": []
    },
    {
      "cell_type": "code",
      "metadata": {
        "id": "GCL3Ywf5Ufye",
        "colab_type": "code",
        "colab": {}
      },
      "source": [
        "t[0] = 'NEW'"
      ],
      "execution_count": 0,
      "outputs": []
    },
    {
      "cell_type": "markdown",
      "metadata": {
        "id": "RizfPQVpUfyi",
        "colab_type": "text"
      },
      "source": [
        "### Sets"
      ]
    },
    {
      "cell_type": "code",
      "metadata": {
        "id": "9SdmoPbzUfyj",
        "colab_type": "code",
        "colab": {}
      },
      "source": [
        "{1,2,3}"
      ],
      "execution_count": 0,
      "outputs": []
    },
    {
      "cell_type": "code",
      "metadata": {
        "id": "c0iUZRlxUfym",
        "colab_type": "code",
        "colab": {}
      },
      "source": [
        "{1,2,3,1,2,1,2,3,3,3,3,2,2,2,1,1,2}"
      ],
      "execution_count": 0,
      "outputs": []
    },
    {
      "cell_type": "markdown",
      "metadata": {
        "id": "g6Ok-WlKUfy0",
        "colab_type": "text"
      },
      "source": [
        "## Comparison Operators"
      ]
    },
    {
      "cell_type": "code",
      "metadata": {
        "id": "ZWZW8uoCUfy2",
        "colab_type": "code",
        "colab": {}
      },
      "source": [
        "1 > 2"
      ],
      "execution_count": 0,
      "outputs": []
    },
    {
      "cell_type": "code",
      "metadata": {
        "id": "xW2c3EZoUfy8",
        "colab_type": "code",
        "colab": {}
      },
      "source": [
        "1 < 2"
      ],
      "execution_count": 0,
      "outputs": []
    },
    {
      "cell_type": "code",
      "metadata": {
        "id": "JsUU-mbdUfzD",
        "colab_type": "code",
        "colab": {}
      },
      "source": [
        "1 >= 1"
      ],
      "execution_count": 0,
      "outputs": []
    },
    {
      "cell_type": "code",
      "metadata": {
        "id": "uRMwYYoXUfzI",
        "colab_type": "code",
        "colab": {}
      },
      "source": [
        "1 <= 4"
      ],
      "execution_count": 0,
      "outputs": []
    },
    {
      "cell_type": "code",
      "metadata": {
        "id": "bGkLepPwUfzN",
        "colab_type": "code",
        "colab": {}
      },
      "source": [
        "1 == 1"
      ],
      "execution_count": 0,
      "outputs": []
    },
    {
      "cell_type": "code",
      "metadata": {
        "id": "4TM8FfCZUfzR",
        "colab_type": "code",
        "colab": {}
      },
      "source": [
        "'hi' == 'bye'"
      ],
      "execution_count": 0,
      "outputs": []
    },
    {
      "cell_type": "markdown",
      "metadata": {
        "id": "ACPyN4h_UfzW",
        "colab_type": "text"
      },
      "source": [
        "## Logic Operators"
      ]
    },
    {
      "cell_type": "code",
      "metadata": {
        "id": "e5xDZoqbUfzX",
        "colab_type": "code",
        "colab": {}
      },
      "source": [
        "(1 > 2) and (2 < 3)"
      ],
      "execution_count": 0,
      "outputs": []
    },
    {
      "cell_type": "code",
      "metadata": {
        "id": "8Lahqip1Ufzg",
        "colab_type": "code",
        "colab": {}
      },
      "source": [
        "(1 > 2) or (2 < 3)"
      ],
      "execution_count": 0,
      "outputs": []
    },
    {
      "cell_type": "code",
      "metadata": {
        "id": "bbusmA8NUfzl",
        "colab_type": "code",
        "colab": {}
      },
      "source": [
        "(1 == 2) or (2 == 3) or (4 == 4)"
      ],
      "execution_count": 0,
      "outputs": []
    },
    {
      "cell_type": "markdown",
      "metadata": {
        "id": "douFcqUCUfzo",
        "colab_type": "text"
      },
      "source": [
        "## if,elif, else Statements"
      ]
    },
    {
      "cell_type": "code",
      "metadata": {
        "id": "9St9Gp_gUfzp",
        "colab_type": "code",
        "colab": {}
      },
      "source": [
        "if 1 < 2:\n",
        "    print('Yep!')"
      ],
      "execution_count": 0,
      "outputs": []
    },
    {
      "cell_type": "code",
      "metadata": {
        "id": "9OyJCl7vUfzu",
        "colab_type": "code",
        "colab": {}
      },
      "source": [
        "if 1 < 2:\n",
        "    print('yep!')"
      ],
      "execution_count": 0,
      "outputs": []
    },
    {
      "cell_type": "code",
      "metadata": {
        "id": "vn-O2hqYUfzx",
        "colab_type": "code",
        "colab": {}
      },
      "source": [
        "if 1 < 2:\n",
        "    print('first')\n",
        "else:\n",
        "    print('last')"
      ],
      "execution_count": 0,
      "outputs": []
    },
    {
      "cell_type": "code",
      "metadata": {
        "id": "pGPlBhrvUfz8",
        "colab_type": "code",
        "colab": {}
      },
      "source": [
        "if 1 > 2:\n",
        "    print('first')\n",
        "else:\n",
        "    print('last')"
      ],
      "execution_count": 0,
      "outputs": []
    },
    {
      "cell_type": "code",
      "metadata": {
        "id": "4qLrtMmWUf0B",
        "colab_type": "code",
        "colab": {}
      },
      "source": [
        "if 1 == 2:\n",
        "    print('first')\n",
        "elif 3 == 3:\n",
        "    print('middle')\n",
        "else:\n",
        "    print('Last')"
      ],
      "execution_count": 0,
      "outputs": []
    },
    {
      "cell_type": "markdown",
      "metadata": {
        "id": "G4WkAFpcUf0F",
        "colab_type": "text"
      },
      "source": [
        "## for Loops"
      ]
    },
    {
      "cell_type": "code",
      "metadata": {
        "id": "ugv4JY1ZUf0G",
        "colab_type": "code",
        "colab": {}
      },
      "source": [
        "seq = [1,2,3,4,5]"
      ],
      "execution_count": 0,
      "outputs": []
    },
    {
      "cell_type": "code",
      "metadata": {
        "id": "crBl2kK1Uf0M",
        "colab_type": "code",
        "colab": {}
      },
      "source": [
        "for item in seq:\n",
        "    print(item)"
      ],
      "execution_count": 0,
      "outputs": []
    },
    {
      "cell_type": "code",
      "metadata": {
        "id": "XvyXJ2FGUf0V",
        "colab_type": "code",
        "colab": {}
      },
      "source": [
        "for item in seq:\n",
        "    print('Yep')"
      ],
      "execution_count": 0,
      "outputs": []
    },
    {
      "cell_type": "code",
      "metadata": {
        "id": "28Ql5nfqUf0k",
        "colab_type": "code",
        "colab": {}
      },
      "source": [
        "for jelly in seq:\n",
        "    print(jelly+jelly)"
      ],
      "execution_count": 0,
      "outputs": []
    },
    {
      "cell_type": "markdown",
      "metadata": {
        "id": "BRJTmIzhUf0p",
        "colab_type": "text"
      },
      "source": [
        "## while Loops"
      ]
    },
    {
      "cell_type": "code",
      "metadata": {
        "id": "U329_qzjUf0r",
        "colab_type": "code",
        "colab": {}
      },
      "source": [
        "i = 1\n",
        "while i < 5:\n",
        "    print('i is: {}'.format(i))\n",
        "    i = i+1"
      ],
      "execution_count": 0,
      "outputs": []
    },
    {
      "cell_type": "markdown",
      "metadata": {
        "id": "2Wm4UjCGUf1a",
        "colab_type": "text"
      },
      "source": [
        "## list comprehension"
      ]
    },
    {
      "cell_type": "code",
      "metadata": {
        "id": "Pno8kmBpUf1b",
        "colab_type": "code",
        "colab": {}
      },
      "source": [
        "x = [1,2,3,4]"
      ],
      "execution_count": 0,
      "outputs": []
    },
    {
      "cell_type": "code",
      "metadata": {
        "id": "2ZSKcKn3Uf1g",
        "colab_type": "code",
        "colab": {}
      },
      "source": [
        "out = []\n",
        "for item in x:\n",
        "    out.append(item**2)\n",
        "print(out)"
      ],
      "execution_count": 0,
      "outputs": []
    },
    {
      "cell_type": "code",
      "metadata": {
        "id": "KEmCs7dOUf1j",
        "colab_type": "code",
        "colab": {}
      },
      "source": [
        "[item**2 for item in x]"
      ],
      "execution_count": 0,
      "outputs": []
    },
    {
      "cell_type": "markdown",
      "metadata": {
        "id": "c9dQvf0QUf1n",
        "colab_type": "text"
      },
      "source": [
        "## functions"
      ]
    },
    {
      "cell_type": "code",
      "metadata": {
        "id": "6GVTB2nXUf1n",
        "colab_type": "code",
        "colab": {}
      },
      "source": [
        "def my_func(param1='default'):\n",
        "    \"\"\"\n",
        "    Docstring goes here.\n",
        "    \"\"\"\n",
        "    print(param1)"
      ],
      "execution_count": 0,
      "outputs": []
    },
    {
      "cell_type": "code",
      "metadata": {
        "id": "EbiRjsDbUf1t",
        "colab_type": "code",
        "colab": {}
      },
      "source": [
        "my_func"
      ],
      "execution_count": 0,
      "outputs": []
    },
    {
      "cell_type": "code",
      "metadata": {
        "id": "FC2MYnNlUf1x",
        "colab_type": "code",
        "colab": {}
      },
      "source": [
        "my_func()"
      ],
      "execution_count": 0,
      "outputs": []
    },
    {
      "cell_type": "code",
      "metadata": {
        "id": "HHLTQQXdUf10",
        "colab_type": "code",
        "colab": {}
      },
      "source": [
        "my_func('new param')"
      ],
      "execution_count": 0,
      "outputs": []
    },
    {
      "cell_type": "code",
      "metadata": {
        "id": "aV_8sX2VUf13",
        "colab_type": "code",
        "colab": {}
      },
      "source": [
        "my_func(param1='new param')"
      ],
      "execution_count": 0,
      "outputs": []
    },
    {
      "cell_type": "code",
      "metadata": {
        "id": "-2WsaHvvUf16",
        "colab_type": "code",
        "colab": {}
      },
      "source": [
        "def square(x):\n",
        "    return x**2"
      ],
      "execution_count": 0,
      "outputs": []
    },
    {
      "cell_type": "code",
      "metadata": {
        "id": "qFqLolazUf1-",
        "colab_type": "code",
        "colab": {}
      },
      "source": [
        "out = square(2)"
      ],
      "execution_count": 0,
      "outputs": []
    },
    {
      "cell_type": "code",
      "metadata": {
        "scrolled": true,
        "id": "lUYOnjnEUf2D",
        "colab_type": "code",
        "colab": {}
      },
      "source": [
        "print(out)"
      ],
      "execution_count": 0,
      "outputs": []
    }
  ]
}